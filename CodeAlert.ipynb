{
 "cells": [
  {
   "cell_type": "markdown",
   "metadata": {},
   "source": [
    "# CodeAlert\n",
    "\n",
    "In-line code alerts that are sent to your email and/or play a sound.\n",
    "\n",
    "Author: Leonard Loo (leonard.loo.ks@gmail.com)\n"
   ]
  },
  {
   "cell_type": "markdown",
   "metadata": {},
   "source": [
    "## 1. Configure CodeAlert"
   ]
  },
  {
   "cell_type": "code",
   "execution_count": 1,
   "metadata": {},
   "outputs": [
    {
     "data": {
      "text/plain": [
       "<CodeAlertLib.CodeAlert.CodeAlert instance at 0x10ea3a998>"
      ]
     },
     "execution_count": 1,
     "metadata": {},
     "output_type": "execute_result"
    }
   ],
   "source": [
    "from CodeAlertLib import CodeAlert\n",
    "from CodeAlertLib import pingd\n",
    "\n",
    "codealert = CodeAlert()\n",
    "\n",
    "# Easy way to turn it on/off\n",
    "codealert.set('on', True)\n",
    "\n",
    "# Method chaining way to set variables\n",
    "codealert.set('sound_enabled', True).set('email_enabled', True).set('emails', ['leonard.loo.ks@gmail.com'])\n",
    "\n",
    "# Direct assignment way to set variables\n",
    "# codealert.emails = ['leonard.loo.ks@gmail.com']\n",
    "# codealert.SOUND_ENABLED = True\n",
    "# codealert.EMAIL_ENABLED = False"
   ]
  },
  {
   "cell_type": "markdown",
   "metadata": {},
   "source": [
    "## 2. Use case: In-line alerts"
   ]
  },
  {
   "cell_type": "code",
   "execution_count": 2,
   "metadata": {
    "collapsed": true
   },
   "outputs": [],
   "source": [
    "# Start Code block\n",
    "import time\n",
    "time.sleep(3)\n",
    "# End Code block\n",
    "\n",
    "# One line ping here with option to email log message\n",
    "codealert.ping('Accuracy: 85%')"
   ]
  },
  {
   "cell_type": "markdown",
   "metadata": {},
   "source": [
    "## 3. Use case: Decorate methods\n",
    "\n",
    "Note: When the function runs into an error, ping will automatically be sent out as well."
   ]
  },
  {
   "cell_type": "code",
   "execution_count": 3,
   "metadata": {},
   "outputs": [
    {
     "name": "stdout",
     "output_type": "stream",
     "text": [
      "This code is before the error\n"
     ]
    }
   ],
   "source": [
    "# Set custom options for this function (options only apply to the codealert object of this function)\n",
    "# NOTE: If sound_enabled gets a string, it will say the sound. Only works for Mac, not Windows.\n",
    "options = {'email_enabled': False, 'sound_enabled': 'ovuvuvuvusasa'}\n",
    "\n",
    "# Pass in code alert and custom options\n",
    "@pingd(codealert, options)\n",
    "def func_noemail_sound(a, b, c):\n",
    "    import time\n",
    "    time.sleep(3)\n",
    "    print('This code is before the error')\n",
    "    x = None + 2\n",
    "    print('This code does not print')\n",
    "    \n",
    "# Test call function\n",
    "func_noemail_sound('a','b','c')"
   ]
  },
  {
   "cell_type": "code",
   "execution_count": 3,
   "metadata": {},
   "outputs": [
    {
     "name": "stdout",
     "output_type": "stream",
     "text": [
      "Code finished executing and sent you an email!\n"
     ]
    }
   ],
   "source": [
    "# Email enabled, default sound\n",
    "options = {'email_enabled': True, 'sound_enabled': True, \n",
    "           'emails': ['YOUR_EMAIL_1', 'YOUR_EMAIL_2'], 'logtext': 'Custom message received in email' }\n",
    "\n",
    "@pingd(codealert, options)\n",
    "def func_email_sound():\n",
    "    import time\n",
    "    time.sleep(3)\n",
    "    print('Code finished executing and sent you an email!')\n",
    "func_email_sound()"
   ]
  }
 ],
 "metadata": {
  "kernelspec": {
   "display_name": "Python 2",
   "language": "python",
   "name": "python2"
  },
  "language_info": {
   "codemirror_mode": {
    "name": "ipython",
    "version": 2
   },
   "file_extension": ".py",
   "mimetype": "text/x-python",
   "name": "python",
   "nbconvert_exporter": "python",
   "pygments_lexer": "ipython2",
   "version": "2.7.13"
  }
 },
 "nbformat": 4,
 "nbformat_minor": 1
}
