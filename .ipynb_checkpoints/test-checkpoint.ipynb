{
 "cells": [
  {
   "cell_type": "markdown",
   "metadata": {},
   "source": [
    "# CodeAlert\n",
    "\n",
    "In-line code alerts that are sent to your email and/or play a sound.\n",
    "\n",
    "Author: Leonard Loo (leonard.loo.ks@gmail.com)\n"
   ]
  },
  {
   "cell_type": "markdown",
   "metadata": {},
   "source": [
    "## 1. Configure CodeAlert"
   ]
  },
  {
   "cell_type": "code",
   "execution_count": 1,
   "metadata": {},
   "outputs": [],
   "source": [
    "from CodeAlert import CodeAlert\n",
    "from CodeAlert import pingd\n",
    "\n",
    "codealert = CodeAlert()\n",
    "\n",
    "# Easy way to turn it on/off\n",
    "codealert.set('on', True)\n",
    "\n",
    "# Method chaining way to set variables\n",
    "codealert.set('sound_enabled', True).set('email_enabled', True).set('emails', ['leonard.loo.ks@gmail.com'])\n",
    "\n",
    "# Direct assignment way to set variables\n",
    "# codealert.emails = ['leonard.loo.ks@gmail.com']\n",
    "# codealert.SOUND_ENABLED = True\n",
    "# codealert.EMAIL_ENABLED = False"
   ]
  },
  {
   "cell_type": "markdown",
   "metadata": {},
   "source": [
    "## 2. Use case: Decorate methods"
   ]
  },
  {
   "cell_type": "code",
   "execution_count": 4,
   "metadata": {},
   "outputs": [
    {
     "name": "stdout",
     "output_type": "stream",
     "text": [
      "Code finished executing!\n"
     ]
    }
   ],
   "source": [
    "# Set custom options for this function (options only apply to the codealert object of this function)\n",
    "options = {'email_enabled': False, 'sound_enabled': True, 'emails': ['leonard@data.gov.sg']}\n",
    "\n",
    "# Pass in code alert and custom options\n",
    "@pingd(codealert, options)\n",
    "def func_noemail_sound():\n",
    "    import time\n",
    "    time.sleep(3)\n",
    "    print('Code finished executing!')\n",
    "    \n",
    "# Test call function\n",
    "func_noemail_sound()"
   ]
  },
  {
   "cell_type": "code",
   "execution_count": 5,
   "metadata": {},
   "outputs": [
    {
     "name": "stdout",
     "output_type": "stream",
     "text": [
      "Code finished executing and sent you an email!\n"
     ]
    }
   ],
   "source": [
    "options = {'email_enabled': True, 'sound_enabled': True}\n",
    "\n",
    "@pingd(codealert, options)\n",
    "def func_email_sound():\n",
    "    import time\n",
    "    time.sleep(3)\n",
    "    print('Code finished executing and sent you an email!')\n",
    "func_email_sound()"
   ]
  },
  {
   "cell_type": "markdown",
   "metadata": {},
   "source": [
    "## 3. Use case: In-line alerts"
   ]
  },
  {
   "cell_type": "code",
   "execution_count": 3,
   "metadata": {
    "collapsed": true
   },
   "outputs": [],
   "source": [
    "# Start Code block\n",
    "import time\n",
    "time.sleep(3)\n",
    "# End Code block\n",
    "\n",
    "# One line ping here with option to email log message\n",
    "codealert.ping('Accuracy: 75%')"
   ]
  }
 ],
 "metadata": {
  "kernelspec": {
   "display_name": "Python 2",
   "language": "python",
   "name": "python2"
  },
  "language_info": {
   "codemirror_mode": {
    "name": "ipython",
    "version": 2
   },
   "file_extension": ".py",
   "mimetype": "text/x-python",
   "name": "python",
   "nbconvert_exporter": "python",
   "pygments_lexer": "ipython2",
   "version": "2.7.13"
  }
 },
 "nbformat": 4,
 "nbformat_minor": 1
}
