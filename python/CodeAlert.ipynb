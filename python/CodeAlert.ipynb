{
 "cells": [
  {
   "cell_type": "markdown",
   "metadata": {},
   "source": [
    "# CodeAlert\n",
    "v1.0.2b1 (Beta)\n",
    "\n",
    "Released: 25 July 2017\n",
    "\n",
    "In-line code alerts that are sent to your Slack, email, or play a sound\n",
    "\n",
    "- **Author:** Leonard Loo\n",
    "- **Author email:** leonard.loo.ks@gmail.com\n",
    "- **URL:** https://github.com/leonardloo/CodeAlert\n",
    "- **Programming language:** Python 2/3\n",
    "- **License**: MIT\n",
    "- **PyPi Package**: https://pypi.python.org/pypi/codealert/1.0.1b1\n",
    "\n",
    "To install: `pip install codealert`.\n"
   ]
  },
  {
   "cell_type": "markdown",
   "metadata": {},
   "source": [
    "## 1. Configure CodeAlert"
   ]
  },
  {
   "cell_type": "code",
   "execution_count": 1,
   "metadata": {},
   "outputs": [
    {
     "data": {
      "text/plain": [
       "<CodeAlertLib.CodeAlert.CodeAlert at 0x102928860>"
      ]
     },
     "execution_count": 1,
     "metadata": {},
     "output_type": "execute_result"
    }
   ],
   "source": [
    "# Import after pip install codealert\n",
    "from codealert import *\n",
    "\n",
    "codealert = CodeAlert()\n",
    "\n",
    "# Easy way to turn it on/off\n",
    "codealert.set('on', True)\n",
    "\n",
    "# Method chaining way to set variables\n",
    "codealert.set('sound_enabled', True).set('email_enabled', True).set('emails', ['YOUR_EMAIL'])\n",
    "\n",
    "# Direct assignment way to set variables\n",
    "# codealert.emails = ['leonard.loo.ks@gmail.com']\n",
    "# codealert.SOUND_ENABLED = True\n",
    "# codealert.EMAIL_ENABLED = False"
   ]
  },
  {
   "cell_type": "markdown",
   "metadata": {},
   "source": [
    "## 2. Use case: In-line alerts"
   ]
  },
  {
   "cell_type": "code",
   "execution_count": 2,
   "metadata": {
    "collapsed": true
   },
   "outputs": [],
   "source": [
    "# Start Code block\n",
    "import time\n",
    "time.sleep(3)\n",
    "# End Code block\n",
    "\n",
    "# One line ping here that will send you an email and emit a sound\n",
    "codealert.ping('Accuracy: 85%')"
   ]
  },
  {
   "cell_type": "markdown",
   "metadata": {},
   "source": [
    "For **Slack Integration**, you have to first visit: https://my.slack.com/services/new/incoming-webhook/ to get your `slack_url` to feed to `codealert`."
   ]
  },
  {
   "cell_type": "code",
   "execution_count": 2,
   "metadata": {
    "collapsed": true
   },
   "outputs": [],
   "source": [
    "# Slack integration\n",
    "import time\n",
    "# time.sleep(1)\n",
    "\n",
    "# You may obtain your slack url via this link: https://my.slack.com/services/new/incoming-webhook/\n",
    "slack_url = 'https://hooks.slack.com/services/T---/B---/---'\n",
    "codealert.set('slack_enabled', True).set('slack_url', slack_url)\n",
    "codealert.ping(\"Here's an example of CodeAlert pinging you once your code is done running!\")"
   ]
  },
  {
   "cell_type": "markdown",
   "metadata": {},
   "source": [
    "## 3. Use case: Decorate methods\n",
    "\n",
    "Note: When the function runs into an error, ping will automatically be sent out as well."
   ]
  },
  {
   "cell_type": "code",
   "execution_count": 5,
   "metadata": {
    "collapsed": true
   },
   "outputs": [],
   "source": [
    "# Set custom options for this function (options only apply to the codealert object of this function)\n",
    "# NOTE: If sound_enabled gets a string, it will say the sound. Only works for Mac, not Windows.\n",
    "# NOTE: If there is error, the error message will be sent to your email.\n",
    "options = {'email_enabled': False, 'sound_enabled': 'done', 'slack_enabled': True}\n",
    "\n",
    "# Pass in code alert and custom options\n",
    "@pingd(codealert, options)\n",
    "def func_noemail_sound_slack(a, b, c):\n",
    "    import time\n",
    "    time.sleep(3)\n",
    "    print('This code is before the error')\n",
    "    x = None + 2\n",
    "    print('This code does not print')\n",
    "    \n",
    "# Test call function\n",
    "func_noemail_sound_slack('a','b','c')"
   ]
  },
  {
   "cell_type": "code",
   "execution_count": 3,
   "metadata": {
    "collapsed": true
   },
   "outputs": [],
   "source": [
    "# Email enabled, default sound\n",
    "# NOTE: logtext set here at functional level will not be sent to email if there are print statements \n",
    "# in the function. The print statements will be sent instead.\n",
    "options = {'email_enabled': True, 'sound_enabled': True, 'slack_enabled': False,\n",
    "           'emails': ['YOUR_EMAIL', 'OTHER_EMAIL'], 'logtext': 'Custom message received in email' }\n",
    "\n",
    "@pingd(codealert, options)\n",
    "def func_email_sound():\n",
    "    print('This will be sent to your email.')\n",
    "    import time\n",
    "    time.sleep(3)\n",
    "    print('Code finished executing and sent you an email!')\n",
    "func_email_sound()"
   ]
  }
 ],
 "metadata": {
  "kernelspec": {
   "display_name": "Python 2",
   "language": "python",
   "name": "python2"
  },
  "language_info": {
   "codemirror_mode": {
    "name": "ipython",
    "version": 2
   },
   "file_extension": ".py",
   "mimetype": "text/x-python",
   "name": "python",
   "nbconvert_exporter": "python",
   "pygments_lexer": "ipython2",
   "version": "2.7.13"
  }
 },
 "nbformat": 4,
 "nbformat_minor": 1
}
